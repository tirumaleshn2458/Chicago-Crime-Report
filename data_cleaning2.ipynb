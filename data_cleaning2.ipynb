{
 "cells": [
  {
   "cell_type": "code",
   "execution_count": 1,
   "id": "2f6499b3-578a-4bdf-bda6-090deb27965b",
   "metadata": {},
   "outputs": [],
   "source": [
    "import pandas as pd\n",
    "import numpy as np"
   ]
  },
  {
   "cell_type": "code",
   "execution_count": 23,
   "id": "78b48c34-d100-49d5-b929-4b1008098a74",
   "metadata": {},
   "outputs": [
    {
     "name": "stderr",
     "output_type": "stream",
     "text": [
      "/var/folders/4b/082wp8yj1vdb15yd5756bphm0000gn/T/ipykernel_58219/1951213587.py:1: DtypeWarning: Columns (18) have mixed types. Specify dtype option on import or set low_memory=False.\n",
      "  data_frame=pd.read_csv('non_null_data.csv')\n"
     ]
    }
   ],
   "source": [
    "data_frame=pd.read_csv('non_null_data.csv')"
   ]
  },
  {
   "cell_type": "code",
   "execution_count": 24,
   "id": "51094d3d-6757-4a50-94d2-a421ac67770a",
   "metadata": {},
   "outputs": [
    {
     "data": {
      "text/html": [
       "<div>\n",
       "<style scoped>\n",
       "    .dataframe tbody tr th:only-of-type {\n",
       "        vertical-align: middle;\n",
       "    }\n",
       "\n",
       "    .dataframe tbody tr th {\n",
       "        vertical-align: top;\n",
       "    }\n",
       "\n",
       "    .dataframe thead th {\n",
       "        text-align: right;\n",
       "    }\n",
       "</style>\n",
       "<table border=\"1\" class=\"dataframe\">\n",
       "  <thead>\n",
       "    <tr style=\"text-align: right;\">\n",
       "      <th></th>\n",
       "      <th>ID</th>\n",
       "      <th>Case Number</th>\n",
       "      <th>Date</th>\n",
       "      <th>Block</th>\n",
       "      <th>IUCR</th>\n",
       "      <th>Latitude</th>\n",
       "      <th>Longitude</th>\n",
       "      <th>Primary Type</th>\n",
       "      <th>Description</th>\n",
       "      <th>Arrest</th>\n",
       "      <th>Domestic</th>\n",
       "      <th>Beat</th>\n",
       "      <th>Year</th>\n",
       "      <th>Updated On</th>\n",
       "      <th>nd2</th>\n",
       "      <th>address</th>\n",
       "      <th>District Name</th>\n",
       "      <th>n_lat</th>\n",
       "      <th>n_lon</th>\n",
       "    </tr>\n",
       "  </thead>\n",
       "  <tbody>\n",
       "    <tr>\n",
       "      <th>0</th>\n",
       "      <td>5741943</td>\n",
       "      <td>HN549294</td>\n",
       "      <td>08/25/2007 09:22:18 AM</td>\n",
       "      <td>074XX N ROGERS AVE</td>\n",
       "      <td>0560</td>\n",
       "      <td>NaN</td>\n",
       "      <td>NaN</td>\n",
       "      <td>ASSAULT</td>\n",
       "      <td>SIMPLE</td>\n",
       "      <td>False</td>\n",
       "      <td>False</td>\n",
       "      <td>2422</td>\n",
       "      <td>2007</td>\n",
       "      <td>08/17/2015 03:03:40 PM</td>\n",
       "      <td>24.0</td>\n",
       "      <td>074 N ROGERS AVE, Rogers Park, Chicago, Illinois</td>\n",
       "      <td>Rogers Park</td>\n",
       "      <td>44.129630</td>\n",
       "      <td>-79.5071</td>\n",
       "    </tr>\n",
       "    <tr>\n",
       "      <th>1</th>\n",
       "      <td>25953</td>\n",
       "      <td>JE240540</td>\n",
       "      <td>05/24/2021 03:06:00 PM</td>\n",
       "      <td>020XX N LARAMIE AVE</td>\n",
       "      <td>0110</td>\n",
       "      <td>41.917838</td>\n",
       "      <td>-87.755969</td>\n",
       "      <td>HOMICIDE</td>\n",
       "      <td>FIRST DEGREE MURDER</td>\n",
       "      <td>True</td>\n",
       "      <td>False</td>\n",
       "      <td>2515</td>\n",
       "      <td>2021</td>\n",
       "      <td>11/18/2023 03:39:49 PM</td>\n",
       "      <td>25.0</td>\n",
       "      <td>020 N LARAMIE AVE, Grand Central, Chicago, Ill...</td>\n",
       "      <td>Grand Central</td>\n",
       "      <td>41.917838</td>\n",
       "      <td>-87.755969</td>\n",
       "    </tr>\n",
       "    <tr>\n",
       "      <th>2</th>\n",
       "      <td>26038</td>\n",
       "      <td>JE279849</td>\n",
       "      <td>06/26/2021 09:24:00 AM</td>\n",
       "      <td>062XX N MC CORMICK RD</td>\n",
       "      <td>0110</td>\n",
       "      <td>41.995219</td>\n",
       "      <td>-87.713355</td>\n",
       "      <td>HOMICIDE</td>\n",
       "      <td>FIRST DEGREE MURDER</td>\n",
       "      <td>True</td>\n",
       "      <td>False</td>\n",
       "      <td>1711</td>\n",
       "      <td>2021</td>\n",
       "      <td>11/18/2023 03:39:49 PM</td>\n",
       "      <td>17.0</td>\n",
       "      <td>062 N MC CORMICK RD, Albany Park, Chicago, Ill...</td>\n",
       "      <td>Albany Park</td>\n",
       "      <td>41.995219</td>\n",
       "      <td>-87.713355</td>\n",
       "    </tr>\n",
       "    <tr>\n",
       "      <th>3</th>\n",
       "      <td>13279676</td>\n",
       "      <td>JG507211</td>\n",
       "      <td>11/09/2023 07:30:00 AM</td>\n",
       "      <td>019XX W BYRON ST</td>\n",
       "      <td>0620</td>\n",
       "      <td>41.952345</td>\n",
       "      <td>-87.677975</td>\n",
       "      <td>BURGLARY</td>\n",
       "      <td>UNLAWFUL ENTRY</td>\n",
       "      <td>False</td>\n",
       "      <td>False</td>\n",
       "      <td>1922</td>\n",
       "      <td>2023</td>\n",
       "      <td>11/18/2023 03:39:49 PM</td>\n",
       "      <td>19.0</td>\n",
       "      <td>019 W BYRON ST, Town Hall, Chicago, Illinois</td>\n",
       "      <td>Town Hall</td>\n",
       "      <td>41.952345</td>\n",
       "      <td>-87.677975</td>\n",
       "    </tr>\n",
       "    <tr>\n",
       "      <th>4</th>\n",
       "      <td>13274752</td>\n",
       "      <td>JG501049</td>\n",
       "      <td>11/12/2023 07:59:00 AM</td>\n",
       "      <td>086XX S COTTAGE GROVE AVE</td>\n",
       "      <td>0454</td>\n",
       "      <td>41.737751</td>\n",
       "      <td>-87.604856</td>\n",
       "      <td>BATTERY</td>\n",
       "      <td>AGGRAVATED P.O. - HANDS, FISTS, FEET, NO / MIN...</td>\n",
       "      <td>True</td>\n",
       "      <td>False</td>\n",
       "      <td>632</td>\n",
       "      <td>2023</td>\n",
       "      <td>12/09/2023 03:41:24 PM</td>\n",
       "      <td>6.0</td>\n",
       "      <td>086 S COTTAGE GROVE AVE, Gresham, Chicago, Ill...</td>\n",
       "      <td>Gresham</td>\n",
       "      <td>41.737751</td>\n",
       "      <td>-87.604856</td>\n",
       "    </tr>\n",
       "  </tbody>\n",
       "</table>\n",
       "</div>"
      ],
      "text/plain": [
       "         ID Case Number                    Date                      Block  \\\n",
       "0   5741943    HN549294  08/25/2007 09:22:18 AM         074XX N ROGERS AVE   \n",
       "1     25953    JE240540  05/24/2021 03:06:00 PM        020XX N LARAMIE AVE   \n",
       "2     26038    JE279849  06/26/2021 09:24:00 AM      062XX N MC CORMICK RD   \n",
       "3  13279676    JG507211  11/09/2023 07:30:00 AM           019XX W BYRON ST   \n",
       "4  13274752    JG501049  11/12/2023 07:59:00 AM  086XX S COTTAGE GROVE AVE   \n",
       "\n",
       "   IUCR   Latitude  Longitude Primary Type  \\\n",
       "0  0560        NaN        NaN      ASSAULT   \n",
       "1  0110  41.917838 -87.755969     HOMICIDE   \n",
       "2  0110  41.995219 -87.713355     HOMICIDE   \n",
       "3  0620  41.952345 -87.677975     BURGLARY   \n",
       "4  0454  41.737751 -87.604856      BATTERY   \n",
       "\n",
       "                                         Description  Arrest  Domestic  Beat  \\\n",
       "0                                             SIMPLE   False     False  2422   \n",
       "1                                FIRST DEGREE MURDER    True     False  2515   \n",
       "2                                FIRST DEGREE MURDER    True     False  1711   \n",
       "3                                     UNLAWFUL ENTRY   False     False  1922   \n",
       "4  AGGRAVATED P.O. - HANDS, FISTS, FEET, NO / MIN...    True     False   632   \n",
       "\n",
       "   Year              Updated On   nd2  \\\n",
       "0  2007  08/17/2015 03:03:40 PM  24.0   \n",
       "1  2021  11/18/2023 03:39:49 PM  25.0   \n",
       "2  2021  11/18/2023 03:39:49 PM  17.0   \n",
       "3  2023  11/18/2023 03:39:49 PM  19.0   \n",
       "4  2023  12/09/2023 03:41:24 PM   6.0   \n",
       "\n",
       "                                             address  District Name  \\\n",
       "0   074 N ROGERS AVE, Rogers Park, Chicago, Illinois    Rogers Park   \n",
       "1  020 N LARAMIE AVE, Grand Central, Chicago, Ill...  Grand Central   \n",
       "2  062 N MC CORMICK RD, Albany Park, Chicago, Ill...    Albany Park   \n",
       "3       019 W BYRON ST, Town Hall, Chicago, Illinois      Town Hall   \n",
       "4  086 S COTTAGE GROVE AVE, Gresham, Chicago, Ill...        Gresham   \n",
       "\n",
       "       n_lat      n_lon  \n",
       "0  44.129630   -79.5071  \n",
       "1  41.917838 -87.755969  \n",
       "2  41.995219 -87.713355  \n",
       "3  41.952345 -87.677975  \n",
       "4  41.737751 -87.604856  "
      ]
     },
     "execution_count": 24,
     "metadata": {},
     "output_type": "execute_result"
    }
   ],
   "source": [
    "data_frame.head()"
   ]
  },
  {
   "cell_type": "code",
   "execution_count": 25,
   "id": "8727fbad-189b-42cb-be4a-975f3eeafda4",
   "metadata": {},
   "outputs": [
    {
     "data": {
      "text/plain": [
       "ID                   0\n",
       "Case Number          0\n",
       "Date                 0\n",
       "Block                0\n",
       "IUCR                 0\n",
       "Latitude         87847\n",
       "Longitude        87847\n",
       "Primary Type         0\n",
       "Description          0\n",
       "Arrest               0\n",
       "Domestic             0\n",
       "Beat                 0\n",
       "Year                 0\n",
       "Updated On           0\n",
       "nd2                  0\n",
       "address            254\n",
       "District Name      254\n",
       "n_lat                4\n",
       "n_lon                4\n",
       "dtype: int64"
      ]
     },
     "execution_count": 25,
     "metadata": {},
     "output_type": "execute_result"
    }
   ],
   "source": [
    "data_frame.isnull().sum()"
   ]
  },
  {
   "cell_type": "code",
   "execution_count": 27,
   "id": "b2dc5d09-c78a-4965-8eb2-cdd5318f4547",
   "metadata": {},
   "outputs": [],
   "source": [
    "final_data=data_frame[data_frame['n_lat'].isnull()==False]"
   ]
  },
  {
   "cell_type": "code",
   "execution_count": 32,
   "id": "4c6d23bd-7352-463c-92d2-5a876f74fa11",
   "metadata": {},
   "outputs": [
    {
     "data": {
      "text/html": [
       "<div>\n",
       "<style scoped>\n",
       "    .dataframe tbody tr th:only-of-type {\n",
       "        vertical-align: middle;\n",
       "    }\n",
       "\n",
       "    .dataframe tbody tr th {\n",
       "        vertical-align: top;\n",
       "    }\n",
       "\n",
       "    .dataframe thead th {\n",
       "        text-align: right;\n",
       "    }\n",
       "</style>\n",
       "<table border=\"1\" class=\"dataframe\">\n",
       "  <thead>\n",
       "    <tr style=\"text-align: right;\">\n",
       "      <th></th>\n",
       "      <th>ID</th>\n",
       "      <th>Case Number</th>\n",
       "      <th>Date</th>\n",
       "      <th>Block</th>\n",
       "      <th>IUCR</th>\n",
       "      <th>Latitude</th>\n",
       "      <th>Longitude</th>\n",
       "      <th>Primary Type</th>\n",
       "      <th>Description</th>\n",
       "      <th>Arrest</th>\n",
       "      <th>Domestic</th>\n",
       "      <th>Beat</th>\n",
       "      <th>Year</th>\n",
       "      <th>Updated On</th>\n",
       "      <th>nd2</th>\n",
       "      <th>address</th>\n",
       "      <th>District Name</th>\n",
       "      <th>n_lat</th>\n",
       "      <th>n_lon</th>\n",
       "    </tr>\n",
       "  </thead>\n",
       "  <tbody>\n",
       "    <tr>\n",
       "      <th>71388</th>\n",
       "      <td>13305893</td>\n",
       "      <td>JG538665</td>\n",
       "      <td>01/04/2019 04:40:00 PM</td>\n",
       "      <td>059XX W fillmore st</td>\n",
       "      <td>1153</td>\n",
       "      <td>NaN</td>\n",
       "      <td>NaN</td>\n",
       "      <td>DECEPTIVE PRACTICE</td>\n",
       "      <td>FINANCIAL IDENTITY THEFT OVER $ 300</td>\n",
       "      <td>False</td>\n",
       "      <td>False</td>\n",
       "      <td>1513</td>\n",
       "      <td>2019</td>\n",
       "      <td>12/13/2023 03:41:38 PM</td>\n",
       "      <td>15.0</td>\n",
       "      <td>059 W fillmore st, Austin, Chicago, Illinois</td>\n",
       "      <td>Austin</td>\n",
       "      <td>41.867339</td>\n",
       "      <td>-87.7711209)</td>\n",
       "    </tr>\n",
       "  </tbody>\n",
       "</table>\n",
       "</div>"
      ],
      "text/plain": [
       "             ID Case Number                    Date                Block  \\\n",
       "71388  13305893    JG538665  01/04/2019 04:40:00 PM  059XX W fillmore st   \n",
       "\n",
       "       IUCR  Latitude  Longitude        Primary Type  \\\n",
       "71388  1153       NaN        NaN  DECEPTIVE PRACTICE   \n",
       "\n",
       "                               Description  Arrest  Domestic  Beat  Year  \\\n",
       "71388  FINANCIAL IDENTITY THEFT OVER $ 300   False     False  1513  2019   \n",
       "\n",
       "                   Updated On   nd2  \\\n",
       "71388  12/13/2023 03:41:38 PM  15.0   \n",
       "\n",
       "                                            address District Name      n_lat  \\\n",
       "71388  059 W fillmore st, Austin, Chicago, Illinois        Austin  41.867339   \n",
       "\n",
       "               n_lon  \n",
       "71388   -87.7711209)  "
      ]
     },
     "execution_count": 32,
     "metadata": {},
     "output_type": "execute_result"
    }
   ],
   "source": [
    "final_data[final_data['n_lon']==' -87.7711209)']"
   ]
  },
  {
   "cell_type": "code",
   "execution_count": 45,
   "id": "2c207c18-067f-4a04-b7e9-30cab0f2e419",
   "metadata": {},
   "outputs": [
    {
     "name": "stderr",
     "output_type": "stream",
     "text": [
      "/var/folders/4b/082wp8yj1vdb15yd5756bphm0000gn/T/ipykernel_58219/1284221183.py:1: SettingWithCopyWarning: \n",
      "A value is trying to be set on a copy of a slice from a DataFrame.\n",
      "Try using .loc[row_indexer,col_indexer] = value instead\n",
      "\n",
      "See the caveats in the documentation: https://pandas.pydata.org/pandas-docs/stable/user_guide/indexing.html#returning-a-view-versus-a-copy\n",
      "  final_data['n_lon']=final_data['n_lon'].astype(str).str.replace(')','').str.replace('(','').astype(float)\n",
      "/var/folders/4b/082wp8yj1vdb15yd5756bphm0000gn/T/ipykernel_58219/1284221183.py:2: SettingWithCopyWarning: \n",
      "A value is trying to be set on a copy of a slice from a DataFrame.\n",
      "Try using .loc[row_indexer,col_indexer] = value instead\n",
      "\n",
      "See the caveats in the documentation: https://pandas.pydata.org/pandas-docs/stable/user_guide/indexing.html#returning-a-view-versus-a-copy\n",
      "  final_data['n_lat']=final_data['n_lat'].astype(str).str.replace(')','').str.replace('(','').astype(float)\n"
     ]
    }
   ],
   "source": [
    "final_data['n_lon']=final_data['n_lon'].astype(str).str.replace(')','').str.replace('(','').astype(float)\n",
    "final_data['n_lat']=final_data['n_lat'].astype(str).str.replace(')','').str.replace('(','').astype(float)"
   ]
  },
  {
   "cell_type": "code",
   "execution_count": 46,
   "id": "ecd174e0-77f9-4a0e-83e3-a7b2329e39f7",
   "metadata": {
    "scrolled": true
   },
   "outputs": [
    {
     "data": {
      "text/plain": [
       "ID                   0\n",
       "Case Number          0\n",
       "Date                 0\n",
       "Block                0\n",
       "IUCR                 0\n",
       "Latitude         87843\n",
       "Longitude        87843\n",
       "Primary Type         0\n",
       "Description          0\n",
       "Arrest               0\n",
       "Domestic             0\n",
       "Beat                 0\n",
       "Year                 0\n",
       "Updated On           0\n",
       "nd2                  0\n",
       "address            254\n",
       "District Name      254\n",
       "n_lat                0\n",
       "n_lon                0\n",
       "dtype: int64"
      ]
     },
     "execution_count": 46,
     "metadata": {},
     "output_type": "execute_result"
    }
   ],
   "source": [
    "final_data.isnull().sum()"
   ]
  },
  {
   "cell_type": "code",
   "execution_count": 63,
   "id": "79a6a974-7e3c-4781-9823-3f225dbe177b",
   "metadata": {},
   "outputs": [],
   "source": [
    "clean_data=final_data[(final_data['n_lon']<-85.0)&(final_data['n_lon']>-93)&(final_data['n_lat']>25)&(final_data['n_lat']<45)].sort_values('n_lat',ascending=False)"
   ]
  },
  {
   "cell_type": "code",
   "execution_count": 64,
   "id": "487a9f3d-5c42-4318-a870-4c1607fcddfc",
   "metadata": {},
   "outputs": [],
   "source": [
    "clean_df=clean_data.drop(['Latitude','Longitude','address'],axis=1)"
   ]
  },
  {
   "cell_type": "code",
   "execution_count": 67,
   "id": "e212cd68-da9f-4730-ae5e-c5644fb62932",
   "metadata": {},
   "outputs": [],
   "source": [
    "clean_df['District Name']=clean_df['District Name'].fillna('Unknown')"
   ]
  },
  {
   "cell_type": "code",
   "execution_count": 68,
   "id": "0aa087a6-9595-4f13-a58f-d6d2634b236e",
   "metadata": {},
   "outputs": [
    {
     "data": {
      "text/plain": [
       "ID               0\n",
       "Case Number      0\n",
       "Date             0\n",
       "Block            0\n",
       "IUCR             0\n",
       "Primary Type     0\n",
       "Description      0\n",
       "Arrest           0\n",
       "Domestic         0\n",
       "Beat             0\n",
       "Year             0\n",
       "Updated On       0\n",
       "nd2              0\n",
       "District Name    0\n",
       "n_lat            0\n",
       "n_lon            0\n",
       "dtype: int64"
      ]
     },
     "execution_count": 68,
     "metadata": {},
     "output_type": "execute_result"
    }
   ],
   "source": [
    "clean_df.isnull().sum()"
   ]
  },
  {
   "cell_type": "code",
   "execution_count": 69,
   "id": "44deb895-9510-4af1-a0b9-c6df414a54d2",
   "metadata": {},
   "outputs": [],
   "source": [
    "clean_df.to_csv('clean_data.csv',index=False)"
   ]
  }
 ],
 "metadata": {
  "kernelspec": {
   "display_name": "Python 3 (ipykernel)",
   "language": "python",
   "name": "python3"
  },
  "language_info": {
   "codemirror_mode": {
    "name": "ipython",
    "version": 3
   },
   "file_extension": ".py",
   "mimetype": "text/x-python",
   "name": "python",
   "nbconvert_exporter": "python",
   "pygments_lexer": "ipython3",
   "version": "3.12.1"
  }
 },
 "nbformat": 4,
 "nbformat_minor": 5
}
