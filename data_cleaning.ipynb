{
 "cells": [
  {
   "cell_type": "code",
   "execution_count": 53,
   "id": "8c3aaa09-be53-412b-9334-32d7c75136aa",
   "metadata": {},
   "outputs": [],
   "source": [
    "#import libraries\n",
    "import pandas as pd\n",
    "import numpy as np\n",
    "import seaborn as sns"
   ]
  },
  {
   "cell_type": "code",
   "execution_count": 4,
   "id": "be0fe8c4-249d-481e-adad-bbdfce122b02",
   "metadata": {},
   "outputs": [],
   "source": [
    "data_frame=pd.read_csv('data.csv')"
   ]
  },
  {
   "cell_type": "code",
   "execution_count": 5,
   "id": "5a96fb6f-ae89-4640-8e7a-6f38da1885ab",
   "metadata": {},
   "outputs": [
    {
     "data": {
      "text/html": [
       "<div>\n",
       "<style scoped>\n",
       "    .dataframe tbody tr th:only-of-type {\n",
       "        vertical-align: middle;\n",
       "    }\n",
       "\n",
       "    .dataframe tbody tr th {\n",
       "        vertical-align: top;\n",
       "    }\n",
       "\n",
       "    .dataframe thead th {\n",
       "        text-align: right;\n",
       "    }\n",
       "</style>\n",
       "<table border=\"1\" class=\"dataframe\">\n",
       "  <thead>\n",
       "    <tr style=\"text-align: right;\">\n",
       "      <th></th>\n",
       "      <th>ID</th>\n",
       "      <th>Case Number</th>\n",
       "      <th>Date</th>\n",
       "      <th>Block</th>\n",
       "      <th>IUCR</th>\n",
       "      <th>Primary Type</th>\n",
       "      <th>Description</th>\n",
       "      <th>Location Description</th>\n",
       "      <th>Arrest</th>\n",
       "      <th>Domestic</th>\n",
       "      <th>...</th>\n",
       "      <th>Ward</th>\n",
       "      <th>Community Area</th>\n",
       "      <th>FBI Code</th>\n",
       "      <th>X Coordinate</th>\n",
       "      <th>Y Coordinate</th>\n",
       "      <th>Year</th>\n",
       "      <th>Updated On</th>\n",
       "      <th>Latitude</th>\n",
       "      <th>Longitude</th>\n",
       "      <th>Location</th>\n",
       "    </tr>\n",
       "  </thead>\n",
       "  <tbody>\n",
       "    <tr>\n",
       "      <th>0</th>\n",
       "      <td>5741943</td>\n",
       "      <td>HN549294</td>\n",
       "      <td>08/25/2007 09:22:18 AM</td>\n",
       "      <td>074XX N ROGERS AVE</td>\n",
       "      <td>0560</td>\n",
       "      <td>ASSAULT</td>\n",
       "      <td>SIMPLE</td>\n",
       "      <td>OTHER</td>\n",
       "      <td>False</td>\n",
       "      <td>False</td>\n",
       "      <td>...</td>\n",
       "      <td>49.0</td>\n",
       "      <td>1.0</td>\n",
       "      <td>08A</td>\n",
       "      <td>NaN</td>\n",
       "      <td>NaN</td>\n",
       "      <td>2007</td>\n",
       "      <td>08/17/2015 03:03:40 PM</td>\n",
       "      <td>NaN</td>\n",
       "      <td>NaN</td>\n",
       "      <td>NaN</td>\n",
       "    </tr>\n",
       "    <tr>\n",
       "      <th>1</th>\n",
       "      <td>25953</td>\n",
       "      <td>JE240540</td>\n",
       "      <td>05/24/2021 03:06:00 PM</td>\n",
       "      <td>020XX N LARAMIE AVE</td>\n",
       "      <td>0110</td>\n",
       "      <td>HOMICIDE</td>\n",
       "      <td>FIRST DEGREE MURDER</td>\n",
       "      <td>STREET</td>\n",
       "      <td>True</td>\n",
       "      <td>False</td>\n",
       "      <td>...</td>\n",
       "      <td>36.0</td>\n",
       "      <td>19.0</td>\n",
       "      <td>01A</td>\n",
       "      <td>1141387.0</td>\n",
       "      <td>1913179.0</td>\n",
       "      <td>2021</td>\n",
       "      <td>11/18/2023 03:39:49 PM</td>\n",
       "      <td>41.917838</td>\n",
       "      <td>-87.755969</td>\n",
       "      <td>(41.917838056, -87.755968972)</td>\n",
       "    </tr>\n",
       "    <tr>\n",
       "      <th>2</th>\n",
       "      <td>26038</td>\n",
       "      <td>JE279849</td>\n",
       "      <td>06/26/2021 09:24:00 AM</td>\n",
       "      <td>062XX N MC CORMICK RD</td>\n",
       "      <td>0110</td>\n",
       "      <td>HOMICIDE</td>\n",
       "      <td>FIRST DEGREE MURDER</td>\n",
       "      <td>PARKING LOT</td>\n",
       "      <td>True</td>\n",
       "      <td>False</td>\n",
       "      <td>...</td>\n",
       "      <td>50.0</td>\n",
       "      <td>13.0</td>\n",
       "      <td>01A</td>\n",
       "      <td>1152781.0</td>\n",
       "      <td>1941458.0</td>\n",
       "      <td>2021</td>\n",
       "      <td>11/18/2023 03:39:49 PM</td>\n",
       "      <td>41.995219</td>\n",
       "      <td>-87.713355</td>\n",
       "      <td>(41.995219444, -87.713354912)</td>\n",
       "    </tr>\n",
       "    <tr>\n",
       "      <th>3</th>\n",
       "      <td>13279676</td>\n",
       "      <td>JG507211</td>\n",
       "      <td>11/09/2023 07:30:00 AM</td>\n",
       "      <td>019XX W BYRON ST</td>\n",
       "      <td>0620</td>\n",
       "      <td>BURGLARY</td>\n",
       "      <td>UNLAWFUL ENTRY</td>\n",
       "      <td>APARTMENT</td>\n",
       "      <td>False</td>\n",
       "      <td>False</td>\n",
       "      <td>...</td>\n",
       "      <td>47.0</td>\n",
       "      <td>5.0</td>\n",
       "      <td>05</td>\n",
       "      <td>1162518.0</td>\n",
       "      <td>1925906.0</td>\n",
       "      <td>2023</td>\n",
       "      <td>11/18/2023 03:39:49 PM</td>\n",
       "      <td>41.952345</td>\n",
       "      <td>-87.677975</td>\n",
       "      <td>(41.952345086, -87.677975059)</td>\n",
       "    </tr>\n",
       "    <tr>\n",
       "      <th>4</th>\n",
       "      <td>13274752</td>\n",
       "      <td>JG501049</td>\n",
       "      <td>11/12/2023 07:59:00 AM</td>\n",
       "      <td>086XX S COTTAGE GROVE AVE</td>\n",
       "      <td>0454</td>\n",
       "      <td>BATTERY</td>\n",
       "      <td>AGGRAVATED P.O. - HANDS, FISTS, FEET, NO / MIN...</td>\n",
       "      <td>SMALL RETAIL STORE</td>\n",
       "      <td>True</td>\n",
       "      <td>False</td>\n",
       "      <td>...</td>\n",
       "      <td>6.0</td>\n",
       "      <td>44.0</td>\n",
       "      <td>08B</td>\n",
       "      <td>1183071.0</td>\n",
       "      <td>1847869.0</td>\n",
       "      <td>2023</td>\n",
       "      <td>12/09/2023 03:41:24 PM</td>\n",
       "      <td>41.737751</td>\n",
       "      <td>-87.604856</td>\n",
       "      <td>(41.737750767, -87.604855911)</td>\n",
       "    </tr>\n",
       "  </tbody>\n",
       "</table>\n",
       "<p>5 rows × 22 columns</p>\n",
       "</div>"
      ],
      "text/plain": [
       "         ID Case Number                    Date                      Block  \\\n",
       "0   5741943    HN549294  08/25/2007 09:22:18 AM         074XX N ROGERS AVE   \n",
       "1     25953    JE240540  05/24/2021 03:06:00 PM        020XX N LARAMIE AVE   \n",
       "2     26038    JE279849  06/26/2021 09:24:00 AM      062XX N MC CORMICK RD   \n",
       "3  13279676    JG507211  11/09/2023 07:30:00 AM           019XX W BYRON ST   \n",
       "4  13274752    JG501049  11/12/2023 07:59:00 AM  086XX S COTTAGE GROVE AVE   \n",
       "\n",
       "   IUCR Primary Type                                        Description  \\\n",
       "0  0560      ASSAULT                                             SIMPLE   \n",
       "1  0110     HOMICIDE                                FIRST DEGREE MURDER   \n",
       "2  0110     HOMICIDE                                FIRST DEGREE MURDER   \n",
       "3  0620     BURGLARY                                     UNLAWFUL ENTRY   \n",
       "4  0454      BATTERY  AGGRAVATED P.O. - HANDS, FISTS, FEET, NO / MIN...   \n",
       "\n",
       "  Location Description  Arrest  Domestic  ...  Ward  Community Area  FBI Code  \\\n",
       "0                OTHER   False     False  ...  49.0             1.0       08A   \n",
       "1               STREET    True     False  ...  36.0            19.0       01A   \n",
       "2          PARKING LOT    True     False  ...  50.0            13.0       01A   \n",
       "3            APARTMENT   False     False  ...  47.0             5.0        05   \n",
       "4   SMALL RETAIL STORE    True     False  ...   6.0            44.0       08B   \n",
       "\n",
       "   X Coordinate Y Coordinate  Year              Updated On   Latitude  \\\n",
       "0           NaN          NaN  2007  08/17/2015 03:03:40 PM        NaN   \n",
       "1     1141387.0    1913179.0  2021  11/18/2023 03:39:49 PM  41.917838   \n",
       "2     1152781.0    1941458.0  2021  11/18/2023 03:39:49 PM  41.995219   \n",
       "3     1162518.0    1925906.0  2023  11/18/2023 03:39:49 PM  41.952345   \n",
       "4     1183071.0    1847869.0  2023  12/09/2023 03:41:24 PM  41.737751   \n",
       "\n",
       "   Longitude                       Location  \n",
       "0        NaN                            NaN  \n",
       "1 -87.755969  (41.917838056, -87.755968972)  \n",
       "2 -87.713355  (41.995219444, -87.713354912)  \n",
       "3 -87.677975  (41.952345086, -87.677975059)  \n",
       "4 -87.604856  (41.737750767, -87.604855911)  \n",
       "\n",
       "[5 rows x 22 columns]"
      ]
     },
     "execution_count": 5,
     "metadata": {},
     "output_type": "execute_result"
    }
   ],
   "source": [
    "data_frame.head()"
   ]
  },
  {
   "cell_type": "code",
   "execution_count": 24,
   "id": "43ae7362-a06f-49f1-8546-301057e3d9c7",
   "metadata": {},
   "outputs": [],
   "source": [
    "#getting the null value count in the dataset\n",
    "null_count=data_frame.isnull().sum()\n",
    "null_per=data_frame.isnull().sum().values/len(data_frame)*100\n",
    "null_count_df=pd.DataFrame({'Null count':null_count,\n",
    "                            'Null percentage(%)':null_per,\n",
    "                           'dtypes':data_frame.dtypes},index=data_frame.columns)"
   ]
  },
  {
   "cell_type": "code",
   "execution_count": 25,
   "id": "d5db23bc-0c56-4e18-b00f-45e00bda06e9",
   "metadata": {
    "scrolled": true
   },
   "outputs": [
    {
     "data": {
      "text/html": [
       "<div>\n",
       "<style scoped>\n",
       "    .dataframe tbody tr th:only-of-type {\n",
       "        vertical-align: middle;\n",
       "    }\n",
       "\n",
       "    .dataframe tbody tr th {\n",
       "        vertical-align: top;\n",
       "    }\n",
       "\n",
       "    .dataframe thead th {\n",
       "        text-align: right;\n",
       "    }\n",
       "</style>\n",
       "<table border=\"1\" class=\"dataframe\">\n",
       "  <thead>\n",
       "    <tr style=\"text-align: right;\">\n",
       "      <th></th>\n",
       "      <th>Null count</th>\n",
       "      <th>Null percentage(%)</th>\n",
       "      <th>dtypes</th>\n",
       "    </tr>\n",
       "  </thead>\n",
       "  <tbody>\n",
       "    <tr>\n",
       "      <th>ID</th>\n",
       "      <td>0</td>\n",
       "      <td>0.000000</td>\n",
       "      <td>int64</td>\n",
       "    </tr>\n",
       "    <tr>\n",
       "      <th>Updated On</th>\n",
       "      <td>0</td>\n",
       "      <td>0.000000</td>\n",
       "      <td>object</td>\n",
       "    </tr>\n",
       "    <tr>\n",
       "      <th>Year</th>\n",
       "      <td>0</td>\n",
       "      <td>0.000000</td>\n",
       "      <td>int64</td>\n",
       "    </tr>\n",
       "    <tr>\n",
       "      <th>FBI Code</th>\n",
       "      <td>0</td>\n",
       "      <td>0.000000</td>\n",
       "      <td>object</td>\n",
       "    </tr>\n",
       "    <tr>\n",
       "      <th>Domestic</th>\n",
       "      <td>0</td>\n",
       "      <td>0.000000</td>\n",
       "      <td>bool</td>\n",
       "    </tr>\n",
       "    <tr>\n",
       "      <th>Arrest</th>\n",
       "      <td>0</td>\n",
       "      <td>0.000000</td>\n",
       "      <td>bool</td>\n",
       "    </tr>\n",
       "    <tr>\n",
       "      <th>Beat</th>\n",
       "      <td>0</td>\n",
       "      <td>0.000000</td>\n",
       "      <td>int64</td>\n",
       "    </tr>\n",
       "    <tr>\n",
       "      <th>Primary Type</th>\n",
       "      <td>0</td>\n",
       "      <td>0.000000</td>\n",
       "      <td>object</td>\n",
       "    </tr>\n",
       "    <tr>\n",
       "      <th>IUCR</th>\n",
       "      <td>0</td>\n",
       "      <td>0.000000</td>\n",
       "      <td>object</td>\n",
       "    </tr>\n",
       "    <tr>\n",
       "      <th>Block</th>\n",
       "      <td>0</td>\n",
       "      <td>0.000000</td>\n",
       "      <td>object</td>\n",
       "    </tr>\n",
       "    <tr>\n",
       "      <th>Date</th>\n",
       "      <td>0</td>\n",
       "      <td>0.000000</td>\n",
       "      <td>object</td>\n",
       "    </tr>\n",
       "    <tr>\n",
       "      <th>Case Number</th>\n",
       "      <td>0</td>\n",
       "      <td>0.000000</td>\n",
       "      <td>object</td>\n",
       "    </tr>\n",
       "    <tr>\n",
       "      <th>Description</th>\n",
       "      <td>0</td>\n",
       "      <td>0.000000</td>\n",
       "      <td>object</td>\n",
       "    </tr>\n",
       "    <tr>\n",
       "      <th>District</th>\n",
       "      <td>47</td>\n",
       "      <td>0.000589</td>\n",
       "      <td>float64</td>\n",
       "    </tr>\n",
       "    <tr>\n",
       "      <th>Location Description</th>\n",
       "      <td>12364</td>\n",
       "      <td>0.154904</td>\n",
       "      <td>object</td>\n",
       "    </tr>\n",
       "    <tr>\n",
       "      <th>Longitude</th>\n",
       "      <td>87847</td>\n",
       "      <td>1.100604</td>\n",
       "      <td>float64</td>\n",
       "    </tr>\n",
       "    <tr>\n",
       "      <th>X Coordinate</th>\n",
       "      <td>87847</td>\n",
       "      <td>1.100604</td>\n",
       "      <td>float64</td>\n",
       "    </tr>\n",
       "    <tr>\n",
       "      <th>Y Coordinate</th>\n",
       "      <td>87847</td>\n",
       "      <td>1.100604</td>\n",
       "      <td>float64</td>\n",
       "    </tr>\n",
       "    <tr>\n",
       "      <th>Latitude</th>\n",
       "      <td>87847</td>\n",
       "      <td>1.100604</td>\n",
       "      <td>float64</td>\n",
       "    </tr>\n",
       "    <tr>\n",
       "      <th>Location</th>\n",
       "      <td>87847</td>\n",
       "      <td>1.100604</td>\n",
       "      <td>object</td>\n",
       "    </tr>\n",
       "    <tr>\n",
       "      <th>Community Area</th>\n",
       "      <td>613479</td>\n",
       "      <td>7.686059</td>\n",
       "      <td>float64</td>\n",
       "    </tr>\n",
       "    <tr>\n",
       "      <th>Ward</th>\n",
       "      <td>614854</td>\n",
       "      <td>7.703286</td>\n",
       "      <td>float64</td>\n",
       "    </tr>\n",
       "  </tbody>\n",
       "</table>\n",
       "</div>"
      ],
      "text/plain": [
       "                      Null count  Null percentage(%)   dtypes\n",
       "ID                             0            0.000000    int64\n",
       "Updated On                     0            0.000000   object\n",
       "Year                           0            0.000000    int64\n",
       "FBI Code                       0            0.000000   object\n",
       "Domestic                       0            0.000000     bool\n",
       "Arrest                         0            0.000000     bool\n",
       "Beat                           0            0.000000    int64\n",
       "Primary Type                   0            0.000000   object\n",
       "IUCR                           0            0.000000   object\n",
       "Block                          0            0.000000   object\n",
       "Date                           0            0.000000   object\n",
       "Case Number                    0            0.000000   object\n",
       "Description                    0            0.000000   object\n",
       "District                      47            0.000589  float64\n",
       "Location Description       12364            0.154904   object\n",
       "Longitude                  87847            1.100604  float64\n",
       "X Coordinate               87847            1.100604  float64\n",
       "Y Coordinate               87847            1.100604  float64\n",
       "Latitude                   87847            1.100604  float64\n",
       "Location                   87847            1.100604   object\n",
       "Community Area            613479            7.686059  float64\n",
       "Ward                      614854            7.703286  float64"
      ]
     },
     "execution_count": 25,
     "metadata": {},
     "output_type": "execute_result"
    }
   ],
   "source": [
    "null_count_df.sort_values('Null percentage(%)')"
   ]
  },
  {
   "cell_type": "code",
   "execution_count": 29,
   "id": "0e8096f6-a889-4ae7-9318-61802791517f",
   "metadata": {},
   "outputs": [
    {
     "data": {
      "text/plain": [
       "0                  [N, ROGERS, AVE]\n",
       "1                 [N, LARAMIE, AVE]\n",
       "2              [N, MC, CORMICK, RD]\n",
       "3                    [W, BYRON, ST]\n",
       "4          [S, COTTAGE, GROVE, AVE]\n",
       "                     ...           \n",
       "7981706          [N, JEFFERSON, ST]\n",
       "7981707               [W, 95TH, ST]\n",
       "7981708             [S, AVERS, AVE]\n",
       "7981709       [S, SOUTH, SHORE, DR]\n",
       "7981710              [S, WELLS, ST]\n",
       "Name: Block, Length: 7981711, dtype: object"
      ]
     },
     "execution_count": 29,
     "metadata": {},
     "output_type": "execute_result"
    }
   ],
   "source": [
    "data_frame['Block'].str.split(' ').str[1:]"
   ]
  },
  {
   "cell_type": "code",
   "execution_count": 30,
   "id": "ac8e8454-c587-45da-a849-6b85ec7c19e6",
   "metadata": {},
   "outputs": [
    {
     "data": {
      "text/plain": [
       "63623"
      ]
     },
     "execution_count": 30,
     "metadata": {},
     "output_type": "execute_result"
    }
   ],
   "source": [
    "len(data_frame['Block'].unique())"
   ]
  },
  {
   "cell_type": "code",
   "execution_count": 36,
   "id": "ad4312ab-cc48-46b9-a9e7-4ed8c85ff2fb",
   "metadata": {},
   "outputs": [],
   "source": [
    "data_frame['street_names']=data_frame['Block'].str.split(' ').str[1:].str.join(' ')"
   ]
  },
  {
   "cell_type": "code",
   "execution_count": 38,
   "id": "53b8eb13-7910-4d35-ac26-94b90438bbf6",
   "metadata": {},
   "outputs": [
    {
     "data": {
      "text/plain": [
       "5766"
      ]
     },
     "execution_count": 38,
     "metadata": {},
     "output_type": "execute_result"
    }
   ],
   "source": [
    "len(data_frame['street_names'].unique())"
   ]
  },
  {
   "cell_type": "code",
   "execution_count": 39,
   "id": "3659a54d-98f9-4fee-a9d2-0578bd3856c3",
   "metadata": {},
   "outputs": [],
   "source": [
    "#Replacing null values in distrcit "
   ]
  },
  {
   "cell_type": "code",
   "execution_count": 40,
   "id": "9689c3ec-ae08-4186-a661-822b0b1f5654",
   "metadata": {},
   "outputs": [],
   "source": [
    "#check whether a street exists in more than one district"
   ]
  },
  {
   "cell_type": "code",
   "execution_count": 42,
   "id": "235f967a-6a69-4551-93d4-101419cb2e8f",
   "metadata": {},
   "outputs": [
    {
     "data": {
      "text/plain": [
       "25"
      ]
     },
     "execution_count": 42,
     "metadata": {},
     "output_type": "execute_result"
    }
   ],
   "source": [
    "len(data_frame['District'].unique())"
   ]
  },
  {
   "cell_type": "code",
   "execution_count": 45,
   "id": "3e0dee5d-b594-4931-96ce-9635779e86bc",
   "metadata": {},
   "outputs": [
    {
     "data": {
      "text/plain": [
       "District\n",
       "1.0     325395\n",
       "2.0     378581\n",
       "3.0     404579\n",
       "4.0     453110\n",
       "5.0     352932\n",
       "6.0     466804\n",
       "7.0     458369\n",
       "8.0     535954\n",
       "9.0     389275\n",
       "10.0    343741\n",
       "11.0    510698\n",
       "12.0    397481\n",
       "14.0    308357\n",
       "15.0    339953\n",
       "16.0    267740\n",
       "17.0    230554\n",
       "18.0    359266\n",
       "19.0    359872\n",
       "20.0    141804\n",
       "21.0         4\n",
       "22.0    261135\n",
       "24.0    242270\n",
       "25.0    453540\n",
       "31.0       250\n",
       "Name: street_names, dtype: int64"
      ]
     },
     "execution_count": 45,
     "metadata": {},
     "output_type": "execute_result"
    }
   ],
   "source": [
    "data_frame.groupby('District')['street_names'].count()"
   ]
  },
  {
   "cell_type": "code",
   "execution_count": 50,
   "id": "bdacbab2-c3a7-4e60-93a1-bb0eaeb86cf3",
   "metadata": {},
   "outputs": [],
   "source": [
    "gb1=pd.DataFrame(data_frame.groupby('street_names')['District'].count())"
   ]
  },
  {
   "cell_type": "code",
   "execution_count": 59,
   "id": "8337f7d7-b888-4715-bd61-42b149b42c23",
   "metadata": {
    "scrolled": true
   },
   "outputs": [
    {
     "data": {
      "text/html": [
       "<div>\n",
       "<style scoped>\n",
       "    .dataframe tbody tr th:only-of-type {\n",
       "        vertical-align: middle;\n",
       "    }\n",
       "\n",
       "    .dataframe tbody tr th {\n",
       "        vertical-align: top;\n",
       "    }\n",
       "\n",
       "    .dataframe thead th {\n",
       "        text-align: right;\n",
       "    }\n",
       "</style>\n",
       "<table border=\"1\" class=\"dataframe\">\n",
       "  <thead>\n",
       "    <tr style=\"text-align: right;\">\n",
       "      <th></th>\n",
       "      <th>District</th>\n",
       "    </tr>\n",
       "    <tr>\n",
       "      <th>street_names</th>\n",
       "      <th></th>\n",
       "    </tr>\n",
       "  </thead>\n",
       "  <tbody>\n",
       "    <tr>\n",
       "      <th>UNKNOWN</th>\n",
       "      <td>2</td>\n",
       "    </tr>\n",
       "    <tr>\n",
       "      <th>W 21st ST</th>\n",
       "      <td>2</td>\n",
       "    </tr>\n",
       "    <tr>\n",
       "      <th>W 21st St</th>\n",
       "      <td>2</td>\n",
       "    </tr>\n",
       "    <tr>\n",
       "      <th>E 69th pl</th>\n",
       "      <td>2</td>\n",
       "    </tr>\n",
       "    <tr>\n",
       "      <th>N WATERSIDE DR</th>\n",
       "      <td>2</td>\n",
       "    </tr>\n",
       "    <tr>\n",
       "      <th>...</th>\n",
       "      <td>...</td>\n",
       "    </tr>\n",
       "    <tr>\n",
       "      <th>S DR MARTIN LUTHER KING JR DR</th>\n",
       "      <td>66556</td>\n",
       "    </tr>\n",
       "    <tr>\n",
       "      <th>W MADISON ST</th>\n",
       "      <td>70971</td>\n",
       "    </tr>\n",
       "    <tr>\n",
       "      <th>S HALSTED ST</th>\n",
       "      <td>71246</td>\n",
       "    </tr>\n",
       "    <tr>\n",
       "      <th>S MICHIGAN AVE</th>\n",
       "      <td>77407</td>\n",
       "    </tr>\n",
       "    <tr>\n",
       "      <th>S STATE ST</th>\n",
       "      <td>92576</td>\n",
       "    </tr>\n",
       "  </tbody>\n",
       "</table>\n",
       "<p>4510 rows × 1 columns</p>\n",
       "</div>"
      ],
      "text/plain": [
       "                               District\n",
       "street_names                           \n",
       " UNKNOWN                              2\n",
       "W 21st ST                             2\n",
       "W 21st St                             2\n",
       "E 69th pl                             2\n",
       "N WATERSIDE DR                        2\n",
       "...                                 ...\n",
       "S DR MARTIN LUTHER KING JR DR     66556\n",
       "W MADISON ST                      70971\n",
       "S HALSTED ST                      71246\n",
       "S MICHIGAN AVE                    77407\n",
       "S STATE ST                        92576\n",
       "\n",
       "[4510 rows x 1 columns]"
      ]
     },
     "execution_count": 59,
     "metadata": {},
     "output_type": "execute_result"
    }
   ],
   "source": [
    "gb1[gb1['District']>1].sort_values('District')"
   ]
  },
  {
   "cell_type": "code",
   "execution_count": 54,
   "id": "0c1c109c-cb94-4547-bc76-3e82ec9673b0",
   "metadata": {},
   "outputs": [],
   "source": [
    "d_null_data=data_frame[data_frame['District'].isnull()]"
   ]
  },
  {
   "cell_type": "code",
   "execution_count": 65,
   "id": "0b974f81-3d4f-4d68-b133-a30efc1bd5a9",
   "metadata": {
    "scrolled": true
   },
   "outputs": [
    {
     "data": {
      "text/plain": [
       "20"
      ]
     },
     "execution_count": 65,
     "metadata": {},
     "output_type": "execute_result"
    }
   ],
   "source": [
    "len(data_frame[data_frame['Location'].isin(list(d_null_data['Location'].values))]['District'].unique())"
   ]
  }
 ],
 "metadata": {
  "kernelspec": {
   "display_name": "Python 3 (ipykernel)",
   "language": "python",
   "name": "python3"
  },
  "language_info": {
   "codemirror_mode": {
    "name": "ipython",
    "version": 3
   },
   "file_extension": ".py",
   "mimetype": "text/x-python",
   "name": "python",
   "nbconvert_exporter": "python",
   "pygments_lexer": "ipython3",
   "version": "3.12.1"
  }
 },
 "nbformat": 4,
 "nbformat_minor": 5
}
