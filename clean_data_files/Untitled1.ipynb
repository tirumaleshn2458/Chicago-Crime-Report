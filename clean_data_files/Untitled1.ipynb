{
 "cells": [
  {
   "cell_type": "code",
   "execution_count": null,
   "id": "39cc37a1-97a1-459c-af84-eb56d9448a04",
   "metadata": {},
   "outputs": [],
   "source": [
    "import json\n",
    "import requests\n",
    "\n",
    "coordinates={}\n",
    "no_address=[]\n",
    "with open('uni_address.json','r') as file:\n",
    "    uni_address_dict=json.load(file)\n",
    "uni_address=uni_address_dict['uni_address']\n",
    "def get_coordinates(place_name):\n",
    "    base_url = \"https://nominatim.openstreetmap.org/search\"\n",
    "    params = {\n",
    "        \"q\": place_name,\n",
    "        \"format\": \"json\",\n",
    "    }\n",
    "\n",
    "    response = requests.get(base_url, params=params)\n",
    "    data = response.json()\n",
    "\n",
    "    if data:        \n",
    "        return float(data[0]['lat']), float(data[0]['lon'])\n",
    "    else:\n",
    "        return None, None\n",
    "\n",
    "for place_name,i in zip(uni_address[:1000],range(1000)):\n",
    "    if i%50==0:\n",
    "        print(i)\n",
    "    latitude, longitude = get_coordinates(place_name)\n",
    "    if latitude is not None and longitude is not None:\n",
    "        coordinates[place_name]=(latitude,longitude)\n",
    "        #print(f\"Coordinates for {place_name}: Latitude={latitude}, Longitude={longitude}\")\n",
    "    else:\n",
    "        print(f\"Coordinates for {place_name} not found.\")\n",
    "        no_address.append(place_name)\n",
    "\n",
    "#saving the first dictionary of around 1000 coordinates\n",
    "with open('coordinates2.json','w') as file:\n",
    "    json.dump(coordinates,file)\n",
    "\n",
    "no_coordinates={'no_list':no_address}\n",
    "with open('no_coordinates2.json','w') as file:\n",
    "    json.dump(no_coordinates,file)\n",
    "\n",
    "with open('no_coordinates2.json','r') as file:\n",
    "    no_list=json.load(file)"
   ]
  },
  {
   "cell_type": "code",
   "execution_count": 10,
   "id": "213b0d61-d7f4-4eef-956c-af2e24a7deb9",
   "metadata": {},
   "outputs": [],
   "source": [
    "with open('coordinates1.json','r') as file:\n",
    "    dictionary=json.load(file)"
   ]
  },
  {
   "cell_type": "code",
   "execution_count": 13,
   "id": "81592ba9-c3a0-4fcd-b948-e25ce71bdd74",
   "metadata": {},
   "outputs": [],
   "source": [
    "final_dictionary={}\n",
    "for i in range(12):\n",
    "    with open(f'coordinates{str(i+1)}.json','r') as file:\n",
    "        dictionary=json.load(file)\n",
    "    final_dictionary.update(dictionary)"
   ]
  },
  {
   "cell_type": "code",
   "execution_count": 15,
   "id": "ba8a3f67-a13d-4f3e-9860-d25900f17ec3",
   "metadata": {},
   "outputs": [
    {
     "data": {
      "text/plain": [
       "21551"
      ]
     },
     "execution_count": 15,
     "metadata": {},
     "output_type": "execute_result"
    }
   ],
   "source": [
    "len(final_dictionary)"
   ]
  },
  {
   "cell_type": "code",
   "execution_count": 26,
   "id": "60fb94f9-149e-481d-99f6-a4e257fa6752",
   "metadata": {},
   "outputs": [],
   "source": [
    "with open('final_dictionary.json','w') as file:\n",
    "    json.dump(final_dictionary,file)"
   ]
  },
  {
   "cell_type": "code",
   "execution_count": 23,
   "id": "541511c2-28ba-427a-9992-7c242c6e1c87",
   "metadata": {},
   "outputs": [],
   "source": [
    "no_coor=[]\n",
    "for i in range(12):\n",
    "    with open(f'no_coordinates{str(i+1)}.json','r') as file:\n",
    "        dictionary=json.load(file)\n",
    "    no_coor=no_coor+dictionary['no_list']"
   ]
  },
  {
   "cell_type": "code",
   "execution_count": 34,
   "id": "d2322576-74d0-4be4-b3ab-1a420bd99713",
   "metadata": {
    "scrolled": true
   },
   "outputs": [
    {
     "name": "stdout",
     "output_type": "stream",
     "text": [
      "002 N LA SALLE ST, Loop, Chicago, Illinois\n",
      "Try Number:  0\n",
      "Try Number:  1\n"
     ]
    },
    {
     "name": "stderr",
     "output_type": "stream",
     "text": [
      "\n",
      "KeyboardInterrupt\n",
      "\n"
     ]
    }
   ],
   "source": [
    "import requests\n",
    "def get_coordinates(address):\n",
    "    url = f\"https://geocode.xyz/{address}?json=1\"\n",
    "\n",
    "    try:\n",
    "        # Make a GET request to the Geocode.xyz API\n",
    "        response = requests.get(url)\n",
    "        data = response.json()\n",
    "\n",
    "        # Check if coordinates are found\n",
    "        if 'latt' in data and 'longt' in data:\n",
    "            latitude = data['latt']\n",
    "            longitude = data['longt']\n",
    "            #print(f\"Coordinates for {address}: Latitude = {latitude}, Longitude = {longitude}\")\n",
    "            #coordinates_new.append((latitude,longitude))\n",
    "            return (latitude,longitude)\n",
    "        else:\n",
    "            print(f\"No coordinates found for {address}\")\n",
    "            return 0\n",
    "    except Exception as e:\n",
    "        print(\"Error:\", e)\n",
    "\n",
    "# Example usage:\n",
    "#address = \"W 73RD ST, Chicago, Illinois\"\n",
    "#get_coordinates(address)\n",
    "\n",
    "import time\n",
    "import json\n",
    "start_time=time.time()\n",
    "with open(f'no_coordinates{'1'}.json','r') as file:\n",
    "    no_list=json.load(file)\n",
    "for address in no_list['no_list']:\n",
    "    try_number=0    \n",
    "    print(address[0])\n",
    "    while True:\n",
    "        print('Try Number: ',try_number)\n",
    "        coordinates=get_coordinates(address)\n",
    "        if coordinates==0:\n",
    "            print('---------------------------------------------------------------------')\n",
    "            print('No address for this')\n",
    "            print('---------------------------------------------------------------------')\n",
    "            print('---------------------------------------------------------------------')\n",
    "            break\n",
    "        try:\n",
    "            float(coordinates[0])\n",
    "            print(coordinates)\n",
    "            new_coordinates[address]=coordinates\n",
    "            break\n",
    "        except:\n",
    "            try_number=try_number+1\n",
    "            pass\n",
    "    print('-----------------------------')\n",
    "end_time=time.time()\n",
    "print('Total time taken: ',end_time-start_time)\n",
    "with open(f'new_coordinates{file_number}.json','w') as file:\n",
    "    json.dump(new_coordinates,file)"
   ]
  },
  {
   "cell_type": "code",
   "execution_count": 29,
   "id": "f1a878ed-5c8c-4f6d-90f8-7b18cb8f700f",
   "metadata": {},
   "outputs": [],
   "source": [
    "with open(f'no_coordinates{'1'}.json','r') as file:\n",
    "    no_list=json.load(file)"
   ]
  },
  {
   "cell_type": "code",
   "execution_count": 31,
   "id": "8901b2f2-9cb1-4818-ab9e-286e7c72eade",
   "metadata": {},
   "outputs": [
    {
     "data": {
      "text/plain": [
       "['002 N LA SALLE ST, Loop, Chicago, Illinois',\n",
       " '006 W BELMONT AVE, Lakeview, Chicago, Illinois',\n",
       " '035 N CLARK ST, Lakeview, Chicago, Illinois',\n",
       " '013 W BYRON ST, Lakeview, Chicago, Illinois',\n",
       " '035 N RETA AVE, Lakeview, Chicago, Illinois',\n",
       " '008 W WELLINGTON AVE, Lakeview, Chicago, Illinois',\n",
       " '041 N ASHLAND AVE, Lakeview, Chicago, Illinois',\n",
       " '029 N LAKE SHORE DR, Lakeview, Chicago, Illinois',\n",
       " '030 N ASHLAND AVE, Lakeview, Chicago, Illinois',\n",
       " \"100 W OHARE FIELD, O'Hare, Chicago, Illinois\",\n",
       " '028 N SHERIDAN RD, Lakeview, Chicago, Illinois',\n",
       " '009 W WOLFRAM ST, Lakeview, Chicago, Illinois',\n",
       " '035 N GREENVIEW AVE, Lakeview, Chicago, Illinois',\n",
       " '031 N HALSTED ST, Lakeview, Chicago, Illinois',\n",
       " '035 N LAKE SHORE DR, Lakeview, Chicago, Illinois',\n",
       " '031 N BROADWAY, Lakeview, Chicago, Illinois',\n",
       " '014 S LAKE SHORE DR W, Near South Side, Chicago, Illinois',\n",
       " '012 N LA SALLE DR, Near North Side, Chicago, Illinois',\n",
       " '011 W NEWPORT AVE, Lakeview, Chicago, Illinois',\n",
       " '004 W BRIAR PL, Lakeview, Chicago, Illinois',\n",
       " '032 N SHEFFIELD AVE, Lakeview, Chicago, Illinois',\n",
       " \"0000 W TERMINAL ST, O'Hare, Chicago, Illinois\",\n",
       " '005 N MC CLURG CT, Near North Side, Chicago, Illinois',\n",
       " '035 N MARSHFIELD AVE, Lakeview, Chicago, Illinois',\n",
       " '029 N SHERIDAN RD, Lakeview, Chicago, Illinois',\n",
       " \"006 W OHARE ST, O'Hare, Chicago, Illinois\",\n",
       " '047 S DAN RYAN XPRS IB, Fuller Park, Chicago, Illinois',\n",
       " '002 N La Salle St, Loop, Chicago, Illinois',\n",
       " \"100 W OHARE ST, O'Hare, Chicago, Illinois\"]"
      ]
     },
     "execution_count": 31,
     "metadata": {},
     "output_type": "execute_result"
    }
   ],
   "source": [
    "no_list['no_list']"
   ]
  },
  {
   "cell_type": "code",
   "execution_count": 35,
   "id": "df3959d2-23b4-4e17-83b2-f5ad9b6b344f",
   "metadata": {},
   "outputs": [],
   "source": [
    "new_final_dictionary={}\n",
    "for i in range(12):\n",
    "    with open(f'new_coordinates{str(i+1)}.json','r') as file:\n",
    "        dictionary=json.load(file)\n",
    "    new_final_dictionary.update(dictionary)"
   ]
  },
  {
   "cell_type": "code",
   "execution_count": 37,
   "id": "660647e4-1b0f-44a2-8bcc-f368d18d1ce6",
   "metadata": {},
   "outputs": [
    {
     "data": {
      "text/plain": [
       "999"
      ]
     },
     "execution_count": 37,
     "metadata": {},
     "output_type": "execute_result"
    }
   ],
   "source": [
    "len(new_final_dictionary)"
   ]
  },
  {
   "cell_type": "code",
   "execution_count": 39,
   "id": "2b084911-15a8-4973-858d-2e7f2fe47173",
   "metadata": {},
   "outputs": [],
   "source": [
    "final_dictionary_copy=final_dictionary.copy()"
   ]
  },
  {
   "cell_type": "code",
   "execution_count": 40,
   "id": "24616736-ea2d-450f-a058-02a9dcc5fbf9",
   "metadata": {},
   "outputs": [],
   "source": [
    "final_dictionary_copy.update(new_final_dictionary)"
   ]
  },
  {
   "cell_type": "code",
   "execution_count": 42,
   "id": "99eada9a-e6b8-4523-92bf-d007de89cf6a",
   "metadata": {},
   "outputs": [
    {
     "data": {
      "text/plain": [
       "22550"
      ]
     },
     "execution_count": 42,
     "metadata": {},
     "output_type": "execute_result"
    }
   ],
   "source": [
    "len(final_dictionary_copy)"
   ]
  },
  {
   "cell_type": "code",
   "execution_count": 43,
   "id": "a198fbdd-13b0-4c9e-b87d-b6ebdd876157",
   "metadata": {},
   "outputs": [],
   "source": [
    "with open('final_coor_values.json','w') as file:\n",
    "    json.dump(final_dictionary_copy,file)"
   ]
  },
  {
   "cell_type": "code",
   "execution_count": 44,
   "id": "f332a4b5-5cd2-412e-8bd8-5641697b91e0",
   "metadata": {},
   "outputs": [
    {
     "data": {
      "text/plain": [
       "('41.84820', '-87.62898')"
      ]
     },
     "execution_count": 44,
     "metadata": {},
     "output_type": "execute_result"
    }
   ],
   "source": [
    "get_coordinates('051 N NORTHWEST HWY, Jefferson Park, Chicago, Illinois')"
   ]
  }
 ],
 "metadata": {
  "kernelspec": {
   "display_name": "Python 3 (ipykernel)",
   "language": "python",
   "name": "python3"
  },
  "language_info": {
   "codemirror_mode": {
    "name": "ipython",
    "version": 3
   },
   "file_extension": ".py",
   "mimetype": "text/x-python",
   "name": "python",
   "nbconvert_exporter": "python",
   "pygments_lexer": "ipython3",
   "version": "3.12.1"
  }
 },
 "nbformat": 4,
 "nbformat_minor": 5
}
